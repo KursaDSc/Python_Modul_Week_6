{
 "cells": [
  {
   "cell_type": "code",
   "execution_count": 6,
   "id": "4d3a7fff",
   "metadata": {},
   "outputs": [
    {
     "name": "stdout",
     "output_type": "stream",
     "text": [
      "PersonalTask\n"
     ]
    }
   ],
   "source": [
    "from abc import ABC, abstractmethod\n",
    "from datetime import datetime\n",
    "\n",
    "class Task(ABC):         #soyut sinif\n",
    "    def __init__(self, task_id: int, task_name: str, deadline: str, status: str, priority: str):\n",
    "        self.task_id = task_id\n",
    "        self.task_name = task_name\n",
    "        self.deadline = deadline\n",
    "        self.status = status\n",
    "        self.priority = priority\n",
    "        self.color = self.color_your_task()\n",
    "\n",
    "\n",
    "    @abstractmethod\n",
    "    def color_your_task(self) -> str:\n",
    "        pass\n",
    "\n",
    "    def days_to_accomplish_task(self) -> int:\n",
    "        today = datetime.today()\n",
    "        try:\n",
    "            deadline_date = datetime.strptime(self.deadline, \"%Y-%m-%d\")\n",
    "            return (deadline_date - today).days\n",
    "        except ValueError:\n",
    "            return -1\n",
    "        \n",
    "\n",
    "class PersonalTask(Task):\n",
    "    def color_your_task(self) -> str:\n",
    "        return \"Blue\"\n",
    "    \n",
    "\n",
    "class WorkTask(Task):\n",
    "    def color_your_task(self) -> str:\n",
    "        return \"Geel\"\n",
    "    \n",
    "x = PersonalTask(1, \"Buy groceries\", \"2023-10-15\", \"In Progress\", \"High\")\n",
    "print(type(x).__name__)"
   ]
  }
 ],
 "metadata": {
  "kernelspec": {
   "display_name": "Python 3",
   "language": "python",
   "name": "python3"
  },
  "language_info": {
   "codemirror_mode": {
    "name": "ipython",
    "version": 3
   },
   "file_extension": ".py",
   "mimetype": "text/x-python",
   "name": "python",
   "nbconvert_exporter": "python",
   "pygments_lexer": "ipython3",
   "version": "3.13.3"
  }
 },
 "nbformat": 4,
 "nbformat_minor": 5
}
